{
 "cells": [
  {
   "cell_type": "code",
   "execution_count": 3,
   "metadata": {},
   "outputs": [
    {
     "name": "stdout",
     "output_type": "stream",
     "text": [
      "\n",
      "📊 Feature Significance Tests\n",
      "                   Feature   Test                                                                                                                                                  PLOS Value                                         Normal LOS Value  Statistic  P-value  Significant\n",
      "                       Age t-test                                                                                                                                                   41.713568                                                 50.84375  -3.375150 0.000850         True\n",
      "                    Gender t-test                                                                                                                                                    0.733668                                                     0.75  -0.257393 0.797078        False\n",
      "                      Race   chi2 {'WHITE': 0.5125628140703518, 'OTHER': 0.24623115577889448, 'BLACK': 0.21105527638190955, 'ASIAN': 0.01507537688442211, 'HISP/LATINO': 0.01507537688442211} {'WHITE': 0.671875, 'OTHER': 0.234375, 'BLACK': 0.09375}   7.838020 0.097695        False\n",
      "                       BMI t-test                                                                                                                                                   24.973955                                                25.465125  -0.392528 0.694989        False\n",
      "                       GCS t-test                                                                                                                                                    5.914573                                                   7.9375  -2.984880 0.003106         True\n",
      "                       ISS t-test                                                                                                                                                   29.628141                                                26.859375   1.668320 0.096451        False\n",
      "Charlson_Comorbidity_Index t-test                                                                                                                                                    1.482412                                                  2.46875  -3.786480 0.000190         True\n"
     ]
    }
   ],
   "source": [
    "import pandas as pd\n",
    "from modules.data_loader import load_and_engineer_features\n",
    "from modules.statistics import run_feature_tests, summarize_los, generate_table1\n",
    "\n",
    "# === Load Data ===\n",
    "df = load_and_engineer_features(\"updated_dataset (1).csv\")\n",
    "features = ['Age', 'Gender', 'Race', 'BMI','GCS', 'ISS', 'Charlson_Comorbidity_Index']\n",
    "categorical = ['Gender', 'Race']\n",
    "numerical = ['Age', 'BMI', 'GCS', 'ISS', 'Charlson_Comorbidity_Index']\n",
    "\n",
    "# === Statistical Tests ===\n",
    "results_df = run_feature_tests(df, features)\n",
    "print(\"\\n📊 Feature Significance Tests\")\n",
    "print(results_df.to_string(index=False))\n",
    "\n",
    "\n"
   ]
  },
  {
   "cell_type": "code",
   "execution_count": 4,
   "metadata": {},
   "outputs": [
    {
     "name": "stdout",
     "output_type": "stream",
     "text": [
      "\n",
      "📈 LOS Median & IQR by Group\n",
      "                       Median  25th Percentile  75th Percentile\n",
      "Hospital_LOS_Category                                          \n",
      "0                        16.0             11.0             20.0\n",
      "1                        44.0             33.0             70.0\n"
     ]
    },
    {
     "name": "stderr",
     "output_type": "stream",
     "text": [
      "c:\\Users\\shrin\\Downloads\\TBI AI Project\\modules\\statistics.py:32: FutureWarning: The default of observed=False is deprecated and will be changed to True in a future version of pandas. Pass observed=False to retain current behavior or observed=True to adopt the future default and silence this warning.\n",
      "  grouped = df.groupby(target)[los_col].agg([\n"
     ]
    }
   ],
   "source": [
    "# === LOS Summary ===\n",
    "los_summary = summarize_los(df)\n",
    "print(\"\\n📈 LOS Median & IQR by Group\")\n",
    "print(los_summary)\n",
    "\n"
   ]
  },
  {
   "cell_type": "code",
   "execution_count": 5,
   "metadata": {},
   "outputs": [
    {
     "name": "stdout",
     "output_type": "stream",
     "text": [
      "\n",
      "📋 Table 1: Baseline Characteristics\n",
      "                                All Patients       Typical LOS  \\\n",
      "Age                         41.0 (26.0–60.0)  58.0 (31.8–65.2)   \n",
      "BMI                         24.3 (21.1–28.4)  24.9 (21.0–30.1)   \n",
      "Charlson_Comorbidity_Index     1.0 (0.0–3.0)     2.0 (1.0–4.0)   \n",
      "GCS                           3.0 (3.0–11.0)    6.0 (3.0–14.0)   \n",
      "Gender_0                          69 (26.2%)        16 (25.0%)   \n",
      "Gender_1                         194 (73.8%)        48 (75.0%)   \n",
      "ISS                         27.0 (22.0–37.0)  25.0 (19.8–30.0)   \n",
      "Race_ASIAN                          3 (1.1%)              None   \n",
      "Race_BLACK                        48 (18.3%)          6 (9.4%)   \n",
      "Race_HISP/LATINO                    3 (1.1%)              None   \n",
      "Race_OTHER                        64 (24.3%)        15 (23.4%)   \n",
      "Race_WHITE                       145 (55.1%)        43 (67.2%)   \n",
      "\n",
      "                               Prolonged LOS  \n",
      "Age                         38.0 (26.0–54.5)  \n",
      "BMI                         24.1 (21.2–27.9)  \n",
      "Charlson_Comorbidity_Index     1.0 (0.0–2.0)  \n",
      "GCS                            3.0 (3.0–8.0)  \n",
      "Gender_0                          53 (26.6%)  \n",
      "Gender_1                         146 (73.4%)  \n",
      "ISS                         29.0 (24.0–38.0)  \n",
      "Race_ASIAN                          3 (1.5%)  \n",
      "Race_BLACK                        42 (21.1%)  \n",
      "Race_HISP/LATINO                    3 (1.5%)  \n",
      "Race_OTHER                        49 (24.6%)  \n",
      "Race_WHITE                       102 (51.3%)  \n"
     ]
    }
   ],
   "source": [
    "# === Table 1 Generation ===\n",
    "table1 = generate_table1(df, numerical, categorical)\n",
    "print(\"\\n📋 Table 1: Baseline Characteristics\")\n",
    "print(table1)"
   ]
  }
 ],
 "metadata": {
  "kernelspec": {
   "display_name": "base",
   "language": "python",
   "name": "python3"
  },
  "language_info": {
   "codemirror_mode": {
    "name": "ipython",
    "version": 3
   },
   "file_extension": ".py",
   "mimetype": "text/x-python",
   "name": "python",
   "nbconvert_exporter": "python",
   "pygments_lexer": "ipython3",
   "version": "3.12.3"
  }
 },
 "nbformat": 4,
 "nbformat_minor": 2
}
